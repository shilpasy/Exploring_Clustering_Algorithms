{
 "cells": [
  {
   "cell_type": "code",
   "execution_count": 46,
   "id": "372951ed",
   "metadata": {},
   "outputs": [],
   "source": [
    "import pandas as pd  \n",
    "import numpy as np  \n",
    "import seaborn as sns  \n",
    "import matplotlib.pyplot as plt  \n",
    "from sklearn.metrics import silhouette_score\n",
    "import warnings\n",
    "warnings.simplefilter(action='ignore', category=FutureWarning)\n",
    "warnings.simplefilter(action='ignore', category=UserWarning)"
   ]
  },
  {
   "cell_type": "code",
   "execution_count": 2,
   "id": "7dc8291f",
   "metadata": {},
   "outputs": [
    {
     "data": {
      "text/html": [
       "<div>\n",
       "<style scoped>\n",
       "    .dataframe tbody tr th:only-of-type {\n",
       "        vertical-align: middle;\n",
       "    }\n",
       "\n",
       "    .dataframe tbody tr th {\n",
       "        vertical-align: top;\n",
       "    }\n",
       "\n",
       "    .dataframe thead th {\n",
       "        text-align: right;\n",
       "    }\n",
       "</style>\n",
       "<table border=\"1\" class=\"dataframe\">\n",
       "  <thead>\n",
       "    <tr style=\"text-align: right;\">\n",
       "      <th></th>\n",
       "      <th>Channel</th>\n",
       "      <th>Region</th>\n",
       "      <th>Fresh</th>\n",
       "      <th>Milk</th>\n",
       "      <th>Grocery</th>\n",
       "      <th>Frozen</th>\n",
       "      <th>Detergents_Paper</th>\n",
       "      <th>Delicassen</th>\n",
       "    </tr>\n",
       "  </thead>\n",
       "  <tbody>\n",
       "    <tr>\n",
       "      <th>0</th>\n",
       "      <td>2</td>\n",
       "      <td>3</td>\n",
       "      <td>12669</td>\n",
       "      <td>9656</td>\n",
       "      <td>7561</td>\n",
       "      <td>214</td>\n",
       "      <td>2674</td>\n",
       "      <td>1338</td>\n",
       "    </tr>\n",
       "    <tr>\n",
       "      <th>1</th>\n",
       "      <td>2</td>\n",
       "      <td>3</td>\n",
       "      <td>7057</td>\n",
       "      <td>9810</td>\n",
       "      <td>9568</td>\n",
       "      <td>1762</td>\n",
       "      <td>3293</td>\n",
       "      <td>1776</td>\n",
       "    </tr>\n",
       "    <tr>\n",
       "      <th>2</th>\n",
       "      <td>2</td>\n",
       "      <td>3</td>\n",
       "      <td>6353</td>\n",
       "      <td>8808</td>\n",
       "      <td>7684</td>\n",
       "      <td>2405</td>\n",
       "      <td>3516</td>\n",
       "      <td>7844</td>\n",
       "    </tr>\n",
       "    <tr>\n",
       "      <th>3</th>\n",
       "      <td>1</td>\n",
       "      <td>3</td>\n",
       "      <td>13265</td>\n",
       "      <td>1196</td>\n",
       "      <td>4221</td>\n",
       "      <td>6404</td>\n",
       "      <td>507</td>\n",
       "      <td>1788</td>\n",
       "    </tr>\n",
       "    <tr>\n",
       "      <th>4</th>\n",
       "      <td>2</td>\n",
       "      <td>3</td>\n",
       "      <td>22615</td>\n",
       "      <td>5410</td>\n",
       "      <td>7198</td>\n",
       "      <td>3915</td>\n",
       "      <td>1777</td>\n",
       "      <td>5185</td>\n",
       "    </tr>\n",
       "  </tbody>\n",
       "</table>\n",
       "</div>"
      ],
      "text/plain": [
       "   Channel  Region  Fresh  Milk  Grocery  Frozen  Detergents_Paper  Delicassen\n",
       "0        2       3  12669  9656     7561     214              2674        1338\n",
       "1        2       3   7057  9810     9568    1762              3293        1776\n",
       "2        2       3   6353  8808     7684    2405              3516        7844\n",
       "3        1       3  13265  1196     4221    6404               507        1788\n",
       "4        2       3  22615  5410     7198    3915              1777        5185"
      ]
     },
     "execution_count": 2,
     "metadata": {},
     "output_type": "execute_result"
    }
   ],
   "source": [
    "data_customers = pd.read_csv('Wholesale_customers_data.csv')\n",
    "data_customers.head()"
   ]
  },
  {
   "cell_type": "markdown",
   "id": "83f95a23",
   "metadata": {},
   "source": [
    "The data set is from [UCI ML repo](https://archive.ics.uci.edu/ml/datasets/wholesale+customers)\n",
    "\n",
    "**Abstract**: The data set refers to clients of a wholesale distributor. They've given us the deets on how much their clients spend in monetary units m.u. on all sorts of different product categories."
   ]
  },
  {
   "cell_type": "code",
   "execution_count": 6,
   "id": "1d6bc26d",
   "metadata": {},
   "outputs": [
    {
     "data": {
      "text/html": [
       "<div>\n",
       "<style scoped>\n",
       "    .dataframe tbody tr th:only-of-type {\n",
       "        vertical-align: middle;\n",
       "    }\n",
       "\n",
       "    .dataframe tbody tr th {\n",
       "        vertical-align: top;\n",
       "    }\n",
       "\n",
       "    .dataframe thead th {\n",
       "        text-align: right;\n",
       "    }\n",
       "</style>\n",
       "<table border=\"1\" class=\"dataframe\">\n",
       "  <thead>\n",
       "    <tr style=\"text-align: right;\">\n",
       "      <th></th>\n",
       "      <th>Channel</th>\n",
       "      <th>Region</th>\n",
       "      <th>Fresh</th>\n",
       "      <th>Milk</th>\n",
       "      <th>Grocery</th>\n",
       "      <th>Frozen</th>\n",
       "      <th>Detergents_Paper</th>\n",
       "      <th>Delicassen</th>\n",
       "    </tr>\n",
       "  </thead>\n",
       "  <tbody>\n",
       "    <tr>\n",
       "      <th>count</th>\n",
       "      <td>440.000000</td>\n",
       "      <td>440.000000</td>\n",
       "      <td>440.000000</td>\n",
       "      <td>440.000000</td>\n",
       "      <td>440.000000</td>\n",
       "      <td>440.000000</td>\n",
       "      <td>440.000000</td>\n",
       "      <td>440.000000</td>\n",
       "    </tr>\n",
       "    <tr>\n",
       "      <th>mean</th>\n",
       "      <td>1.322727</td>\n",
       "      <td>2.543182</td>\n",
       "      <td>12000.297727</td>\n",
       "      <td>5796.265909</td>\n",
       "      <td>7951.277273</td>\n",
       "      <td>3071.931818</td>\n",
       "      <td>2881.493182</td>\n",
       "      <td>1524.870455</td>\n",
       "    </tr>\n",
       "    <tr>\n",
       "      <th>std</th>\n",
       "      <td>0.468052</td>\n",
       "      <td>0.774272</td>\n",
       "      <td>12647.328865</td>\n",
       "      <td>7380.377175</td>\n",
       "      <td>9503.162829</td>\n",
       "      <td>4854.673333</td>\n",
       "      <td>4767.854448</td>\n",
       "      <td>2820.105937</td>\n",
       "    </tr>\n",
       "    <tr>\n",
       "      <th>min</th>\n",
       "      <td>1.000000</td>\n",
       "      <td>1.000000</td>\n",
       "      <td>3.000000</td>\n",
       "      <td>55.000000</td>\n",
       "      <td>3.000000</td>\n",
       "      <td>25.000000</td>\n",
       "      <td>3.000000</td>\n",
       "      <td>3.000000</td>\n",
       "    </tr>\n",
       "    <tr>\n",
       "      <th>25%</th>\n",
       "      <td>1.000000</td>\n",
       "      <td>2.000000</td>\n",
       "      <td>3127.750000</td>\n",
       "      <td>1533.000000</td>\n",
       "      <td>2153.000000</td>\n",
       "      <td>742.250000</td>\n",
       "      <td>256.750000</td>\n",
       "      <td>408.250000</td>\n",
       "    </tr>\n",
       "    <tr>\n",
       "      <th>50%</th>\n",
       "      <td>1.000000</td>\n",
       "      <td>3.000000</td>\n",
       "      <td>8504.000000</td>\n",
       "      <td>3627.000000</td>\n",
       "      <td>4755.500000</td>\n",
       "      <td>1526.000000</td>\n",
       "      <td>816.500000</td>\n",
       "      <td>965.500000</td>\n",
       "    </tr>\n",
       "    <tr>\n",
       "      <th>75%</th>\n",
       "      <td>2.000000</td>\n",
       "      <td>3.000000</td>\n",
       "      <td>16933.750000</td>\n",
       "      <td>7190.250000</td>\n",
       "      <td>10655.750000</td>\n",
       "      <td>3554.250000</td>\n",
       "      <td>3922.000000</td>\n",
       "      <td>1820.250000</td>\n",
       "    </tr>\n",
       "    <tr>\n",
       "      <th>max</th>\n",
       "      <td>2.000000</td>\n",
       "      <td>3.000000</td>\n",
       "      <td>112151.000000</td>\n",
       "      <td>73498.000000</td>\n",
       "      <td>92780.000000</td>\n",
       "      <td>60869.000000</td>\n",
       "      <td>40827.000000</td>\n",
       "      <td>47943.000000</td>\n",
       "    </tr>\n",
       "  </tbody>\n",
       "</table>\n",
       "</div>"
      ],
      "text/plain": [
       "          Channel      Region          Fresh          Milk       Grocery  \\\n",
       "count  440.000000  440.000000     440.000000    440.000000    440.000000   \n",
       "mean     1.322727    2.543182   12000.297727   5796.265909   7951.277273   \n",
       "std      0.468052    0.774272   12647.328865   7380.377175   9503.162829   \n",
       "min      1.000000    1.000000       3.000000     55.000000      3.000000   \n",
       "25%      1.000000    2.000000    3127.750000   1533.000000   2153.000000   \n",
       "50%      1.000000    3.000000    8504.000000   3627.000000   4755.500000   \n",
       "75%      2.000000    3.000000   16933.750000   7190.250000  10655.750000   \n",
       "max      2.000000    3.000000  112151.000000  73498.000000  92780.000000   \n",
       "\n",
       "             Frozen  Detergents_Paper    Delicassen  \n",
       "count    440.000000        440.000000    440.000000  \n",
       "mean    3071.931818       2881.493182   1524.870455  \n",
       "std     4854.673333       4767.854448   2820.105937  \n",
       "min       25.000000          3.000000      3.000000  \n",
       "25%      742.250000        256.750000    408.250000  \n",
       "50%     1526.000000        816.500000    965.500000  \n",
       "75%     3554.250000       3922.000000   1820.250000  \n",
       "max    60869.000000      40827.000000  47943.000000  "
      ]
     },
     "execution_count": 6,
     "metadata": {},
     "output_type": "execute_result"
    }
   ],
   "source": [
    "data_customers.describe()"
   ]
  },
  {
   "cell_type": "markdown",
   "id": "107478ac",
   "metadata": {},
   "source": [
    "Let's explore, this dataset using unsupersived Machine learning methods. \n",
    "\n",
    "**Use Case**: Clustering algorithms aid customer segmentation in business by grouping similar customers together based on characteristics and behaviors. This helps companies create tailored marketing strategies for each segment, resulting in better customer understanding and satisfaction."
   ]
  },
  {
   "cell_type": "markdown",
   "id": "3f24914a",
   "metadata": {},
   "source": [
    "We wanna figure out what kind of peeps we've got in our data. To do that, we're gonna sort them into squads based on how alike they are. If two customers are best buds in a group, they gotta be more similar than if they're in different groups.\n",
    "Once we've done that, we can look at each squad and see what they like to buy. "
   ]
  },
  {
   "cell_type": "markdown",
   "id": "af34c929",
   "metadata": {},
   "source": [
    "In clustering, we are not trying to predict any true values and we don't have prior knowledge of the appropriate number of groups to identify in the data."
   ]
  },
  {
   "cell_type": "markdown",
   "id": "f006caa5",
   "metadata": {},
   "source": [
    "## Pre processing"
   ]
  },
  {
   "cell_type": "markdown",
   "id": "1c811e36",
   "metadata": {},
   "source": [
    "For the customer segmentation, let's remove information about Area from the data. \n",
    "The 'Channel' is like a code that tells us if our customer is from the Shire (hotel), Rohan (restaurant), or Lothlórien (cafe). And 'Region' gives us the scoop on where they're from, whether it's the Misty Mountains, Fangorn Forest, or the Dead Marshes."
   ]
  },
  {
   "cell_type": "code",
   "execution_count": 11,
   "id": "f5dc7000",
   "metadata": {},
   "outputs": [],
   "source": [
    "data_customers_v1 = data_customers.iloc[:,2:]"
   ]
  },
  {
   "cell_type": "markdown",
   "id": "aa7ba290",
   "metadata": {},
   "source": [
    "Before we chuck our data into the ring for the clustering algorithm to sort out, we gotta weed out any pesky outliers. Sure, they're not a huge problem here, but why not give our results a boost by doing this first? Let's look at the boxplots for each of the features and then remove the outliers."
   ]
  },
  {
   "cell_type": "code",
   "execution_count": 30,
   "id": "71168344",
   "metadata": {},
   "outputs": [
    {
     "data": {
      "image/png": "[encoded data removed]",
      "text/plain": [
       "<Figure size 600x500 with 6 Axes>"
      ]
     },
     "metadata": {},
     "output_type": "display_data"
    }
   ],
   "source": [
    "fig, axes = plt.subplots(2, 3, figsize=(6, 5))\n",
    "\n",
    "for i, ax in enumerate(axes.flatten()):\n",
    "    if i < len(data_customers_v1.columns):\n",
    "        sns.boxplot(data_customers_v1[data_customers_v1.columns[i]], ax=ax)\n",
    "        ax.set_title(data_customers_v1.columns[i])\n",
    "    else:\n",
    "        ax.axis('off')\n",
    "\n",
    "plt.tight_layout()"
   ]
  },
  {
   "cell_type": "code",
   "execution_count": 20,
   "id": "31159b83",
   "metadata": {},
   "outputs": [
    {
     "data": {
      "text/plain": [
       "Fresh               3127.75\n",
       "Milk                1533.00\n",
       "Grocery             2153.00\n",
       "Frozen               742.25\n",
       "Detergents_Paper     256.75\n",
       "Delicassen           408.25\n",
       "Name: 0.25, dtype: float64"
      ]
     },
     "execution_count": 20,
     "metadata": {},
     "output_type": "execute_result"
    }
   ],
   "source": [
    "data_customers_v1.quantile(0.25)"
   ]
  },
  {
   "cell_type": "code",
   "execution_count": 33,
   "id": "c42f2c0d",
   "metadata": {},
   "outputs": [
    {
     "data": {
      "text/plain": [
       "Fresh               13806.00\n",
       "Milk                 5657.25\n",
       "Grocery              8502.75\n",
       "Frozen               2812.00\n",
       "Detergents_Paper     3665.25\n",
       "Delicassen           1412.00\n",
       "dtype: float64"
      ]
     },
     "execution_count": 33,
     "metadata": {},
     "output_type": "execute_result"
    }
   ],
   "source": [
    "Q1 = data_customers_v1.quantile(0.25)\n",
    "Q3 = data_customers_v1.quantile(0.75)\n",
    "IQR = Q3 - Q1\n",
    "IQR"
   ]
  },
  {
   "cell_type": "markdown",
   "id": "2c3ec893",
   "metadata": {},
   "source": [
    "### Removing the outliers"
   ]
  },
  {
   "cell_type": "code",
   "execution_count": 36,
   "id": "2af6486e",
   "metadata": {},
   "outputs": [
    {
     "name": "stdout",
     "output_type": "stream",
     "text": [
      "Number of removed outliers: 172\n",
      "The shape of the dataset before removing outliers: (440, 6)\n",
      "Updated dataset shape: (332, 6)\n"
     ]
    }
   ],
   "source": [
    "outlier_indexes = []\n",
    "\n",
    "# Define the upper and lower bounds as 1.5 times the IQR\n",
    "lower_bound = Q1 - 1.5 * IQR\n",
    "upper_bound = Q3 + 1.5 * IQR\n",
    "\n",
    "for col in data_customers_v1.columns:\n",
    "    outlier_mask = (data_customers_v1[col] < lower_bound[col]) | (data_customers_v1[col] > upper_bound[col])\n",
    "    outlier_indexes.extend(data_customers_v1.index[outlier_mask])\n",
    "\n",
    "# Remove the outliers by dropping the rows with outlier indexes\n",
    "data_customers_v1_outliers_removed = data_customers_v1.drop(index=set(outlier_indexes))\n",
    "\n",
    "# Print the number of removed outliers and the shape of the updated dataset\n",
    "print(\"Number of removed outliers:\", len(outlier_indexes))\n",
    "print(f\"The shape of the dataset before removing outliers: {data_customers_v1.shape}\")\n",
    "print(\"Updated dataset shape:\", data_customers_v1_outliers_removed.shape)\n"
   ]
  },
  {
   "cell_type": "markdown",
   "id": "a73133fa",
   "metadata": {},
   "source": [
    "## KMeans Clustering"
   ]
  },
  {
   "cell_type": "markdown",
   "id": "e464e215",
   "metadata": {},
   "source": [
    "When we use K-Means clustering, we need to measure the distance between data points to group them together. That means we need to make sure all the features are on the same scale, or else some features might appear more important than others (like comparing hobbits to elves, which isn't a fair comparison because they have different abilities and attributes).\n",
    "\n",
    "For our customers data, all the spending features are in the same units, so scaling might not matter too much. But we still need to be cautious! If we had features like customer age and income, scaling would be crucial to ensure that no one feature unfairly dominates the clustering process."
   ]
  },
  {
   "cell_type": "markdown",
   "id": "e6e7d7ab",
   "metadata": {},
   "source": [
    "### Scaling"
   ]
  },
  {
   "cell_type": "code",
   "execution_count": 37,
   "id": "238c9e5f",
   "metadata": {},
   "outputs": [
    {
     "data": {
      "text/html": [
       "<div>\n",
       "<style scoped>\n",
       "    .dataframe tbody tr th:only-of-type {\n",
       "        vertical-align: middle;\n",
       "    }\n",
       "\n",
       "    .dataframe tbody tr th {\n",
       "        vertical-align: top;\n",
       "    }\n",
       "\n",
       "    .dataframe thead th {\n",
       "        text-align: right;\n",
       "    }\n",
       "</style>\n",
       "<table border=\"1\" class=\"dataframe\">\n",
       "  <thead>\n",
       "    <tr style=\"text-align: right;\">\n",
       "      <th></th>\n",
       "      <th>Fresh</th>\n",
       "      <th>Milk</th>\n",
       "      <th>Grocery</th>\n",
       "      <th>Frozen</th>\n",
       "      <th>Detergents_Paper</th>\n",
       "      <th>Delicassen</th>\n",
       "    </tr>\n",
       "  </thead>\n",
       "  <tbody>\n",
       "    <tr>\n",
       "      <th>0</th>\n",
       "      <td>0.383041</td>\n",
       "      <td>1.652898</td>\n",
       "      <td>0.334978</td>\n",
       "      <td>-0.967004</td>\n",
       "      <td>0.305053</td>\n",
       "      <td>0.390465</td>\n",
       "    </tr>\n",
       "    <tr>\n",
       "      <th>1</th>\n",
       "      <td>-0.305588</td>\n",
       "      <td>1.698756</td>\n",
       "      <td>0.733878</td>\n",
       "      <td>-0.059255</td>\n",
       "      <td>0.569139</td>\n",
       "      <td>0.922591</td>\n",
       "    </tr>\n",
       "    <tr>\n",
       "      <th>2</th>\n",
       "      <td>0.456174</td>\n",
       "      <td>-0.866283</td>\n",
       "      <td>-0.328862</td>\n",
       "      <td>2.662821</td>\n",
       "      <td>-0.619462</td>\n",
       "      <td>0.937169</td>\n",
       "    </tr>\n",
       "    <tr>\n",
       "      <th>3</th>\n",
       "      <td>-0.016491</td>\n",
       "      <td>1.236906</td>\n",
       "      <td>-0.148989</td>\n",
       "      <td>-0.701951</td>\n",
       "      <td>-0.069958</td>\n",
       "      <td>0.527749</td>\n",
       "    </tr>\n",
       "    <tr>\n",
       "      <th>4</th>\n",
       "      <td>0.316411</td>\n",
       "      <td>-0.269838</td>\n",
       "      <td>0.218508</td>\n",
       "      <td>-0.811022</td>\n",
       "      <td>0.503864</td>\n",
       "      <td>-0.572949</td>\n",
       "    </tr>\n",
       "  </tbody>\n",
       "</table>\n",
       "</div>"
      ],
      "text/plain": [
       "      Fresh      Milk   Grocery    Frozen  Detergents_Paper  Delicassen\n",
       "0  0.383041  1.652898  0.334978 -0.967004          0.305053    0.390465\n",
       "1 -0.305588  1.698756  0.733878 -0.059255          0.569139    0.922591\n",
       "2  0.456174 -0.866283 -0.328862  2.662821         -0.619462    0.937169\n",
       "3 -0.016491  1.236906 -0.148989 -0.701951         -0.069958    0.527749\n",
       "4  0.316411 -0.269838  0.218508 -0.811022          0.503864   -0.572949"
      ]
     },
     "execution_count": 37,
     "metadata": {},
     "output_type": "execute_result"
    }
   ],
   "source": [
    "from sklearn.preprocessing import StandardScaler\n",
    "std_scaler = StandardScaler()\n",
    "\n",
    "data_customers_v1_outliers_removed_scaled = pd.DataFrame(std_scaler.fit_transform(data_customers_v1_outliers_removed), columns=data_customers_v1_outliers_removed.columns)\n",
    "data_customers_v1_outliers_removed_scaled.head()"
   ]
  },
  {
   "cell_type": "markdown",
   "id": "e6d34c00",
   "metadata": {},
   "source": [
    "### Data projection"
   ]
  },
  {
   "cell_type": "markdown",
   "id": "74ce987c",
   "metadata": {},
   "source": [
    "We don't need a wizard to cast a spell to reduce the dimensions of our data. We can use a Principal Component Analysis (PCA) transformer to work its magic and project our data into a lower-dimensional space.\n",
    "\n",
    "We can reduce the number of features in a dataset while still preserving the most important information. "
   ]
  },
  {
   "cell_type": "code",
   "execution_count": 43,
   "id": "33dc87fa",
   "metadata": {},
   "outputs": [
    {
     "data": {
      "image/png": "[encoded data removed]",
      "text/plain": [
       "<Figure size 640x480 with 1 Axes>"
      ]
     },
     "metadata": {},
     "output_type": "display_data"
    }
   ],
   "source": [
    "from sklearn.decomposition import PCA\n",
    "num_features = data_customers_v1_outliers_removed_scaled.shape[1]\n",
    "pca = PCA(n_components=num_features)\n",
    "\n",
    "data_custom_pca_transformed = pca.fit_transform(data_customers_v1_outliers_removed_scaled)\n",
    "\n",
    "plt.plot(range(1, data_customers_v1_outliers_removed_scaled.shape[1]+1), pca.explained_variance_ratio_.cumsum(), 'g')\n",
    "plt.grid()\n",
    "plt.xlabel(\"n_components\")\n",
    "plt.ylabel(\"Cumulative variance explained by each dimension\")\n",
    "plt.title(\"Variance vs. Number of Components\");"
   ]
  },
  {
   "cell_type": "markdown",
   "id": "7985fd85",
   "metadata": {},
   "source": [
    "We can capture upto 80% variance in our data using only 3 principal components\n",
    "\n",
    "Let's get rid of other 3 components. For that we need to project our data into 3D, we'll use a PCA transformer. It will project our data onto a new 3D subspace defined by the first 3 components."
   ]
  },
  {
   "cell_type": "code",
   "execution_count": 50,
   "id": "2ae45f33",
   "metadata": {},
   "outputs": [],
   "source": [
    "pca3D = PCA(n_components=3)\n",
    "data_custom_pca_3D = pca3D.fit_transform(data_customers_v1_outliers_removed_scaled)"
   ]
  },
  {
   "cell_type": "markdown",
   "id": "3d81f15e",
   "metadata": {},
   "source": [
    "Let's observe the performance of KMeans for number of clusters in the range (2,6)"
   ]
  },
  {
   "cell_type": "code",
   "execution_count": 52,
   "id": "ed91c182",
   "metadata": {},
   "outputs": [
    {
     "name": "stdout",
     "output_type": "stream",
     "text": [
      "For 2 number of clusters, the avg silhouette score is 0.4225 \n",
      "For 3 number of clusters, the avg silhouette score is 0.3476 \n",
      "For 4 number of clusters, the avg silhouette score is 0.3657 \n",
      "For 5 number of clusters, the avg silhouette score is 0.3625 \n",
      "For 6 number of clusters, the avg silhouette score is 0.3279 \n",
      "For 7 number of clusters, the avg silhouette score is 0.3028 \n",
      "For 8 number of clusters, the avg silhouette score is 0.3121 \n"
     ]
    }
   ],
   "source": [
    "from sklearn.cluster import KMeans\n",
    "\n",
    "for n_clust in range(2,9):\n",
    "    kmc = KMeans(n_clusters = n_clust)\n",
    "    kmc.fit(data_custom_pca_3D)\n",
    "    predictions = kmc.predict(data_custom_pca_3D)\n",
    "    #Cluster metrics\n",
    "    sil_score = silhouette_score(data_custom_pca_3D,predictions, metric = 'euclidean')\n",
    "    \n",
    "    print(f\"For {n_clust} number of clusters, the avg silhouette score is {sil_score.round(4)} \")"
   ]
  },
  {
   "cell_type": "markdown",
   "id": "d7188e3d",
   "metadata": {},
   "source": [
    "The Silhouette metric is like a judge for your clustering party. It looks at how well your data points fit into their assigned clusters, and how different they are from other clusters. A high Silhouette score means the guests are happily mingling within their own clusters and not crashing other clusters, while a low score means some guests are feeling left out and may need to switch clusters.\n",
    "\n",
    "so we choose optimal number of clusters as 2 because it has the highest score."
   ]
  },
  {
   "cell_type": "code",
   "execution_count": 70,
   "id": "dd74c5a5",
   "metadata": {},
   "outputs": [
    {
     "data": {
      "application/vnd.jupyter.widget-view+json": {
       "model_id": "cebe2b72f5cc4d578cab5cc44cfeb5fc",
       "version_major": 2,
       "version_minor": 0
      },
      "text/plain": [
       "interactive(children=(IntSlider(value=50, description='horizontal_angle(Azimuth)', step=20), IntSlider(value=2…"
      ]
     },
     "metadata": {},
     "output_type": "display_data"
    }
   ],
   "source": [
    "from mpl_toolkits.mplot3d import Axes3D\n",
    "from ipywidgets import IntSlider\n",
    "from ipywidgets import interact\n",
    "\n",
    "n_clust = 2\n",
    "kmc = KMeans(n_clusters=n_clust, n_init=10)\n",
    "kmc.fit(data_custom_pca_3D)\n",
    "\n",
    "cols = kmc.predict(data_custom_pca_3D)\n",
    "\n",
    "colors = ['red', 'blue']\n",
    "centroids = kmc.cluster_centers_\n",
    "\n",
    "def plot_kmc_clus(azimuth, elevation):\n",
    "    fig = plt.figure()\n",
    "    ax = fig.add_subplot(111, projection='3d')\n",
    "\n",
    "    ax.view_init(elev=elevation, azim=azimuth)\n",
    "\n",
    "    x = data_custom_pca_3D[:,0]\n",
    "    y = data_custom_pca_3D[:,1]\n",
    "    z = data_custom_pca_3D[:,2]\n",
    "    ax.set_xlabel('PC 1')\n",
    "    ax.set_ylabel('PC 2')\n",
    "    ax.set_zlabel('PC 3', rotation=90, labelpad=-2)\n",
    "    ax.scatter(x, y, z, marker='*', s=5, color=[colors[col] for col in cols])\n",
    "\n",
    "interact(plot_kmc_clus, azimuth=IntSlider(min=0, step=20, value=50, description='horizontal_angle(Azimuth)'), \n",
    "                      elevation=IntSlider(min=0, step=20, value=20, description='vertical_angle (Elevation)'));"
   ]
  },
  {
   "cell_type": "code",
   "execution_count": 71,
   "id": "509aea74",
   "metadata": {},
   "outputs": [
    {
     "data": {
      "text/plain": [
       "array([[-0.95738943, -0.05210291, -0.01961314],\n",
       "       [ 2.1588193 ,  0.11748695,  0.04422571]])"
      ]
     },
     "execution_count": 71,
     "metadata": {},
     "output_type": "execute_result"
    }
   ],
   "source": [
    "centroids"
   ]
  },
  {
   "cell_type": "markdown",
   "id": "00e9467d",
   "metadata": {},
   "source": [
    "### Interpreting the clustering results"
   ]
  },
  {
   "cell_type": "markdown",
   "id": "12945ada",
   "metadata": {},
   "source": [
    "After projecting our data onto a lower-dimensional space, we might want to recover the original information so that we can analyze and interpret it. In order to do this, we'll need to apply an inverse transformation to our PCA-reduced data."
   ]
  },
  {
   "cell_type": "markdown",
   "id": "cb505804",
   "metadata": {},
   "source": [
    "We are going to look at a behaviour of typical customers, let's say these come from the centroids of the above two clusters.\n",
    "We should note that representative are not real individuals, but rather are an artificial construct created by the clustering algorithm."
   ]
  },
  {
   "cell_type": "code",
   "execution_count": 77,
   "id": "9a5dc443",
   "metadata": {},
   "outputs": [],
   "source": [
    "#Scaling --> PCA --> Clustering\n",
    "\n",
    "# inverse data scaling done by PCA\n",
    "scaled_centroids = pca3D.inverse_transform(centroids)\n",
    "# invert the scaler\n",
    "true_centroids = std_scaler.inverse_transform(scaled_centroids)"
   ]
  },
  {
   "cell_type": "code",
   "execution_count": 75,
   "id": "a4981ab8",
   "metadata": {},
   "outputs": [
    {
     "data": {
      "text/plain": [
       "array([[ 0.09962597, -0.50788509, -0.54291468,  0.13641538, -0.52872082,\n",
       "        -0.24271402],\n",
       "       [-0.22464679,  1.14523109,  1.22421937, -0.30760331,  1.19221362,\n",
       "         0.54729632]])"
      ]
     },
     "execution_count": 75,
     "metadata": {},
     "output_type": "execute_result"
    }
   ],
   "source": [
    "scaled_centroids"
   ]
  },
  {
   "cell_type": "code",
   "execution_count": 92,
   "id": "c9a30aa7",
   "metadata": {},
   "outputs": [
    {
     "data": {
      "text/html": [
       "<div>\n",
       "<style scoped>\n",
       "    .dataframe tbody tr th:only-of-type {\n",
       "        vertical-align: middle;\n",
       "    }\n",
       "\n",
       "    .dataframe tbody tr th {\n",
       "        vertical-align: top;\n",
       "    }\n",
       "\n",
       "    .dataframe thead th {\n",
       "        text-align: right;\n",
       "    }\n",
       "</style>\n",
       "<table border=\"1\" class=\"dataframe\">\n",
       "  <thead>\n",
       "    <tr style=\"text-align: right;\">\n",
       "      <th></th>\n",
       "      <th>Fresh</th>\n",
       "      <th>Milk</th>\n",
       "      <th>Grocery</th>\n",
       "      <th>Frozen</th>\n",
       "      <th>Detergents_Paper</th>\n",
       "      <th>Delicassen</th>\n",
       "      <th>total_expenses</th>\n",
       "    </tr>\n",
       "  </thead>\n",
       "  <tbody>\n",
       "    <tr>\n",
       "      <th>Representative customer 1</th>\n",
       "      <td>10359.302411</td>\n",
       "      <td>2399.583680</td>\n",
       "      <td>3144.028143</td>\n",
       "      <td>2095.679564</td>\n",
       "      <td>719.690104</td>\n",
       "      <td>816.821019</td>\n",
       "      <td>19535.104920</td>\n",
       "    </tr>\n",
       "    <tr>\n",
       "      <th>Representative customer 2</th>\n",
       "      <td>7716.631818</td>\n",
       "      <td>7951.134839</td>\n",
       "      <td>12035.073796</td>\n",
       "      <td>1338.487259</td>\n",
       "      <td>4753.443883</td>\n",
       "      <td>1467.089860</td>\n",
       "      <td>35261.861455</td>\n",
       "    </tr>\n",
       "  </tbody>\n",
       "</table>\n",
       "</div>"
      ],
      "text/plain": [
       "                                  Fresh         Milk       Grocery  \\\n",
       "Representative customer 1  10359.302411  2399.583680   3144.028143   \n",
       "Representative customer 2   7716.631818  7951.134839  12035.073796   \n",
       "\n",
       "                                Frozen  Detergents_Paper   Delicassen  \\\n",
       "Representative customer 1  2095.679564        719.690104   816.821019   \n",
       "Representative customer 2  1338.487259       4753.443883  1467.089860   \n",
       "\n",
       "                           total_expenses  \n",
       "Representative customer 1    19535.104920  \n",
       "Representative customer 2    35261.861455  "
      ]
     },
     "execution_count": 92,
     "metadata": {},
     "output_type": "execute_result"
    }
   ],
   "source": [
    "typical_customers = pd.DataFrame(true_centroids, columns = data_customers_v1.columns, \n",
    "                                 index=['Representative customer 1', 'Representative customer 2'])\n",
    "typical_customers['total_expenses'] = typical_customers.sum(axis=1)\n",
    "typical_customers"
   ]
  },
  {
   "cell_type": "markdown",
   "id": "b960e1e6",
   "metadata": {},
   "source": [
    "The first representative customer tends to spend more on fresh products, while the second rep customer spends more on grocery and detergents/paper products.\n",
    "\n",
    "The 1st one loves chugging milk but ain't too interested in buying detergents and paper stuff. \n",
    "\n",
    "It is also interesting to see that the 1st one spends more on Fresh and Frozen products both and I expected that the people who spends more on frozen products might spend less on the Fresh products!!"
   ]
  },
  {
   "cell_type": "markdown",
   "id": "2c7727d8",
   "metadata": {},
   "source": [
    "Overall, this table gives us an idea of the kinds of products that are most important for each representative customer, which can help us make decisions about how to market to those customers or what products to prioritize."
   ]
  }
 ],
 "metadata": {
  "kernelspec": {
   "display_name": "Python 3 (ipykernel)",
   "language": "python",
   "name": "python3"
  },
  "language_info": {
   "codemirror_mode": {
    "name": "ipython",
    "version": 3
   },
   "file_extension": ".py",
   "mimetype": "text/x-python",
   "name": "python",
   "nbconvert_exporter": "python",
   "pygments_lexer": "ipython3",
   "version": "3.8.11"
  }
 },
 "nbformat": 4,
 "nbformat_minor": 5
}
